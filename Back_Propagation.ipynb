{
  "nbformat": 4,
  "nbformat_minor": 0,
  "metadata": {
    "colab": {
      "provenance": [],
      "mount_file_id": "1tW665dveEM0qopxiejbeJ5J-uQH4rs-F",
      "authorship_tag": "ABX9TyN1Jd2WvsSr/iU2BPwcERjO",
      "include_colab_link": true
    },
    "kernelspec": {
      "name": "python3",
      "display_name": "Python 3"
    },
    "language_info": {
      "name": "python"
    }
  },
  "cells": [
    {
      "cell_type": "markdown",
      "metadata": {
        "id": "view-in-github",
        "colab_type": "text"
      },
      "source": [
        "<a href=\"https://colab.research.google.com/github/Jaahnavi5666/Back-Propagation-Using-NN/blob/main/Back_Propagation.ipynb\" target=\"_parent\"><img src=\"https://colab.research.google.com/assets/colab-badge.svg\" alt=\"Open In Colab\"/></a>"
      ]
    },
    {
      "cell_type": "markdown",
      "source": [
        "# Back Propagation using Neural Network"
      ],
      "metadata": {
        "id": "f2Y5hspyXUmI"
      }
    },
    {
      "cell_type": "code",
      "execution_count": 37,
      "metadata": {
        "id": "vCwfCRaMIuEO"
      },
      "outputs": [],
      "source": [
        "import numpy as np"
      ]
    },
    {
      "cell_type": "code",
      "source": [
        "# Defining your neural network class\n",
        "class NN:\n",
        "    def __init__(self, input_layer_size, hidden_layer_size, output_layer_size, lr, epoches):\n",
        "        # Initialize your neural network parameters\n",
        "        self.input_layer_size = input_layer_size\n",
        "        self.hidden_layer_size = hidden_layer_size\n",
        "        self.output_layer_size = output_layer_size\n",
        "        self.lr = lr\n",
        "        self.number_of_epoches = epoches\n",
        "\n",
        "        # Initialize weights and biases\n",
        "        self.W1 = np.random.randn(self.input_layer_size, self.hidden_layer_size)\n",
        "        self.b1 = np.zeros((1, self.hidden_layer_size))\n",
        "        self.W2 = np.random.randn(self.hidden_layer_size, self.output_layer_size)\n",
        "        self.b2 = np.zeros((1, self.output_layer_size))\n",
        "\n",
        "    def activation(self, x):\n",
        "      return 1 / (1 + np.exp(-np.clip(x, -500, 500)))  # Clip values to avoid overflow\n",
        "\n",
        "\n",
        "    def activation_derivative(self, x):\n",
        "        # Define the derivative of your activation function\n",
        "        return x * (1 - x)\n",
        "\n",
        "    def forward(self, X):\n",
        "        # Implement the forward pass\n",
        "        self.hidden = self.activation(np.dot(X, self.W1) + self.b1)\n",
        "        self.output = self.activation(np.dot(self.hidden, self.W2) + self.b2)\n",
        "        return self.output\n",
        "\n",
        "    def back_prop(self, X, y):\n",
        "    # Implement backpropagation\n",
        "      for _ in range(self.number_of_epoches):\n",
        "          output = self.forward(X)\n",
        "          # Reshape y to match the shape of self.output\n",
        "          y = y.reshape(output.shape)\n",
        "          # Calculate the error\n",
        "          error = y - output\n",
        "\n",
        "          # Backpropagation\n",
        "          delta2 = error * self.activation_derivative(output)\n",
        "          delta1_hidden = delta2.dot(self.W2.T)\n",
        "          delta1 = delta1_hidden * self.activation_derivative(self.hidden)\n",
        "\n",
        "          # Update weights and biases\n",
        "          self.W2 += self.hidden.T.dot(delta2) * self.lr\n",
        "          self.b2 += np.sum(delta2, axis=0, keepdims=True) * self.lr\n",
        "          self.W1 += X.T.dot(delta1) * self.lr\n",
        "          self.b1 += np.sum(delta1, axis=0, keepdims=True) * self.lr\n",
        "\n",
        "      output = self.forward(X)\n",
        "      return output\n"
      ],
      "metadata": {
        "id": "EIchKDVcXKGS"
      },
      "execution_count": 58,
      "outputs": []
    },
    {
      "cell_type": "markdown",
      "source": [
        "# Importing Data"
      ],
      "metadata": {
        "id": "YKCWtDtjZMqI"
      }
    },
    {
      "cell_type": "code",
      "source": [
        "import pandas as pd\n",
        "from sklearn.model_selection import KFold\n",
        "\n",
        "data = pd.read_csv('/content/drive/MyDrive/Asgn3_20EE10033/housing.csv')\n",
        "X = data.drop(columns=['MEDV'])\n",
        "y = data['MEDV']\n",
        "X = X.to_numpy()\n",
        "y = y.to_numpy()\n",
        "X = (X-np.min(X))/(np.max(X)-np.min(X))\n",
        "y = (y-np.min(y))/(np.max(y)-np.min(y))"
      ],
      "metadata": {
        "id": "GiJAKzVmYEJ_"
      },
      "execution_count": 61,
      "outputs": []
    },
    {
      "cell_type": "markdown",
      "source": [
        "# K Fold cross validation Implementation"
      ],
      "metadata": {
        "id": "BaevrAfrZbEJ"
      }
    },
    {
      "cell_type": "code",
      "source": [
        "from sklearn.model_selection import KFold\n",
        "from sklearn.metrics import mean_squared_error\n",
        "\n",
        "# 5 folds\n",
        "num_folds = 5\n",
        "kf = KFold(n_splits=num_folds)\n",
        "accuracy_scores_A = []\n",
        "accuracy_scores_B = []\n",
        "accuracy_scores_C = []\n",
        "\n",
        "for train_index, test_index in kf.split(X):\n",
        "    X_train, X_test = X[train_index], X[test_index]\n",
        "    y_train, y_test = y[train_index], y[test_index]\n",
        "\n",
        "    # Initialize and train the model\n",
        "    model_A = NN(input_layer_size=3, hidden_layer_size=3, output_layer_size=1, lr=0.01, epoches=1000)\n",
        "    model_A.back_prop(X_train, y_train)\n",
        "    model_B = NN(input_layer_size=3, hidden_layer_size=4, output_layer_size=1, lr=0.001, epoches=1000)\n",
        "    model_B.back_prop(X_train, y_train)\n",
        "    model_C = NN(input_layer_size=3, hidden_layer_size=5, output_layer_size=1, lr=0.0001, epoches=1000)\n",
        "    model_C.back_prop(X_train, y_train)\n",
        "\n",
        "    # Evaluate the model on the test set\n",
        "    y_pred_A = model_A.forward(X_test)\n",
        "    y_pred_B = model_B.forward(X_test)\n",
        "    y_pred_C = model_C.forward(X_test)\n",
        "    mse_A = mean_squared_error(y_test, y_pred_A)\n",
        "    mse_B = mean_squared_error(y_test, y_pred_B)\n",
        "    mse_C = mean_squared_error(y_test, y_pred_C)\n",
        "    accuracy_scores_A.append(mse_A)\n",
        "    accuracy_scores_B.append(mse_B)\n",
        "    accuracy_scores_C.append(mse_C)\n",
        "\n",
        "# Calculate the average accuracy score over the folds\n",
        "average_mse_A = np.mean(accuracy_scores_A)\n",
        "average_mse_B = np.mean(accuracy_scores_B)\n",
        "average_mse_C = np.mean(accuracy_scores_C)\n",
        "print(f'Model A (3 neurons, lr=0.01) 5-Fold Cross-Validation MSE: {average_mse_A}')\n",
        "print(f'Model B (4 neurons, lr=0.001) 5-Fold Cross-Validation MSE: {average_mse_B}')\n",
        "print(f'Model C (5 neurons, lr=0.0001) 5-Fold Cross-Validation MSE: {average_mse_C}')"
      ],
      "metadata": {
        "colab": {
          "base_uri": "https://localhost:8080/"
        },
        "id": "HDsqJjVAZJGs",
        "outputId": "419db915-bd6b-437b-cb5f-c9bf7d5b8c04"
      },
      "execution_count": 65,
      "outputs": [
        {
          "output_type": "stream",
          "name": "stdout",
          "text": [
            "Model A (3 neurons, lr=0.01) 5-Fold Cross-Validation MSE: 0.011787895226950418\n",
            "Model B (4 neurons, lr=0.001) 5-Fold Cross-Validation MSE: 0.025465617753107246\n",
            "Model C (5 neurons, lr=0.0001) 5-Fold Cross-Validation MSE: 0.03506987512044137\n"
          ]
        }
      ]
    },
    {
      "cell_type": "code",
      "source": [
        "# 10 folds\n",
        "num_folds = 10\n",
        "kf = KFold(n_splits=num_folds)\n",
        "accuracy_scores_A = []\n",
        "accuracy_scores_B = []\n",
        "accuracy_scores_C = []\n",
        "\n",
        "for train_index, test_index in kf.split(X):\n",
        "    X_train, X_test = X[train_index], X[test_index]\n",
        "    y_train, y_test = y[train_index], y[test_index]\n",
        "\n",
        "    # Initialize and train the model\n",
        "    model_A = NN(input_layer_size=3, hidden_layer_size=3, output_layer_size=1, lr=0.01, epoches=1000)\n",
        "    model_A.back_prop(X_train, y_train)\n",
        "    model_B = NN(input_layer_size=3, hidden_layer_size=4, output_layer_size=1, lr=0.001, epoches=1000)\n",
        "    model_B.back_prop(X_train, y_train)\n",
        "    model_C = NN(input_layer_size=3, hidden_layer_size=5, output_layer_size=1, lr=0.0001, epoches=1000)\n",
        "    model_C.back_prop(X_train, y_train)\n",
        "\n",
        "    # Evaluate the model on the test set\n",
        "    y_pred_A = model_A.forward(X_test)\n",
        "    y_pred_B = model_B.forward(X_test)\n",
        "    y_pred_C = model_C.forward(X_test)\n",
        "    mse_A = mean_squared_error(y_test, y_pred_A)\n",
        "    mse_B = mean_squared_error(y_test, y_pred_B)\n",
        "    mse_C = mean_squared_error(y_test, y_pred_C)\n",
        "    accuracy_scores_A.append(mse_A)\n",
        "    accuracy_scores_B.append(mse_B)\n",
        "    accuracy_scores_C.append(mse_C)\n",
        "\n",
        "# Calculate the average accuracy score over the folds\n",
        "average_mse_A = np.mean(accuracy_scores_A)\n",
        "average_mse_B = np.mean(accuracy_scores_B)\n",
        "average_mse_C = np.mean(accuracy_scores_C)\n",
        "print(f'Model A (3 neurons, lr=0.01) 5-Fold Cross-Validation MSE: {average_mse_A}')\n",
        "print(f'Model B (4 neurons, lr=0.001) 5-Fold Cross-Validation MSE: {average_mse_B}')\n",
        "print(f'Model C (5 neurons, lr=0.0001) 5-Fold Cross-Validation MSE: {average_mse_C}')"
      ],
      "metadata": {
        "colab": {
          "base_uri": "https://localhost:8080/"
        },
        "id": "01_gNmVYaUGq",
        "outputId": "7998a7ac-d545-42cb-f3d1-b1567b80f215"
      },
      "execution_count": 66,
      "outputs": [
        {
          "output_type": "stream",
          "name": "stdout",
          "text": [
            "Model A (3 neurons, lr=0.01) 5-Fold Cross-Validation MSE: 0.01099703289851678\n",
            "Model B (4 neurons, lr=0.001) 5-Fold Cross-Validation MSE: 0.02510865246466255\n",
            "Model C (5 neurons, lr=0.0001) 5-Fold Cross-Validation MSE: 0.033179555466537516\n"
          ]
        }
      ]
    },
    {
      "cell_type": "code",
      "source": [],
      "metadata": {
        "id": "cX3pbA3KyNgN"
      },
      "execution_count": null,
      "outputs": []
    }
  ]
}